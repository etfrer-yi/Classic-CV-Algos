{
 "cells": [
  {
   "cell_type": "markdown",
   "id": "a17fefed",
   "metadata": {},
   "source": [
    "Adapted from https://pytorch.org/tutorials/beginner/basics/optimization_tutorial.html"
   ]
  },
  {
   "cell_type": "code",
   "execution_count": 1,
   "id": "e7aa8835",
   "metadata": {},
   "outputs": [],
   "source": [
    "import torch\n",
    "import torch.nn as nn\n",
    "import torchvision\n",
    "from torchvision import datasets\n",
    "from torchvision import transforms\n",
    "from torch.utils.data import DataLoader"
   ]
  },
  {
   "cell_type": "code",
   "execution_count": 2,
   "id": "2c970f9c",
   "metadata": {},
   "outputs": [],
   "source": [
    "class LeNet(nn.Module):\n",
    "    def __init__(self):\n",
    "        super().__init__()\n",
    "        self.neural_network = nn.Sequential(\n",
    "            \n",
    "            # Layer 1\n",
    "            nn.Conv2d(1,6,5),\n",
    "            nn.Tanh(),\n",
    "            nn.AvgPool2d(2, 2),\n",
    "            nn.Tanh(),\n",
    "            \n",
    "            # Layer 2\n",
    "            nn.Conv2d(6, 16, 5),\n",
    "            nn.Tanh(),\n",
    "            nn.AvgPool2d(2, 2),\n",
    "            nn.Tanh(),\n",
    "            \n",
    "            # Layer 3\n",
    "            nn.Conv2d(16, 120, 5),\n",
    "            nn.Tanh(),\n",
    "            \n",
    "            # FC\n",
    "            nn.Flatten(),\n",
    "            nn.Linear(120, 84),\n",
    "            nn.Tanh(),\n",
    "            nn.Linear(84, 10),\n",
    "        )\n",
    "\n",
    "    def forward(self, x):\n",
    "        return self.neural_network(x)"
   ]
  },
  {
   "cell_type": "code",
   "execution_count": 3,
   "id": "4bf81856",
   "metadata": {},
   "outputs": [
    {
     "name": "stdout",
     "output_type": "stream",
     "text": [
      "Training set has 60000 instances\n",
      "Validation set has 10000 instances\n"
     ]
    }
   ],
   "source": [
    "transform = transforms.Compose(\n",
    "    [\n",
    "        transforms.Pad(2),\n",
    "        transforms.ToTensor(),\n",
    "        transforms.Normalize((0.5,), (0.5,))\n",
    "    ]\n",
    ")\n",
    "\n",
    "training_set = datasets.MNIST('./data', train=True, transform=transform, download=True)\n",
    "validation_set = datasets.MNIST('./data', train=False, transform=transform, download=True)\n",
    "\n",
    "training_loader = torch.utils.data.DataLoader(training_set, batch_size=4, shuffle=True)\n",
    "validation_loader = torch.utils.data.DataLoader(validation_set, batch_size=4, shuffle=False)\n",
    "\n",
    "# Report split sizes\n",
    "print('Training set has {} instances'.format(len(training_set)))\n",
    "print('Validation set has {} instances'.format(len(validation_set)))"
   ]
  },
  {
   "cell_type": "code",
   "execution_count": 4,
   "id": "ad6184a4",
   "metadata": {},
   "outputs": [],
   "source": [
    "model = LeNet()\n",
    "optimizer = torch.optim.SGD(model.parameters(), lr=0.001, momentum=0.9)\n",
    "loss_fn = torch.nn.CrossEntropyLoss()"
   ]
  },
  {
   "cell_type": "code",
   "execution_count": 5,
   "id": "f8beba33",
   "metadata": {},
   "outputs": [],
   "source": [
    "def train_loop(dataloader, model, loss_fn, optimizer):\n",
    "    size = len(dataloader.dataset)\n",
    "    model.train()\n",
    "    for batch, data in enumerate(dataloader): \n",
    "        (X, y) = data # len(X) = 10\n",
    "        \n",
    "        # Compute prediction and loss\n",
    "        pred = model(X)\n",
    "        loss = loss_fn(pred, y)\n",
    "\n",
    "        # Backpropagation\n",
    "        loss.backward()\n",
    "        optimizer.step()\n",
    "        optimizer.zero_grad()\n",
    "\n",
    "        if batch % 1000 == 0 and batch > 0:\n",
    "            loss, current = loss.item(), batch * len(X)\n",
    "            print(f\"loss: {loss:>7f}  [{current:>5d}/{size:>5d}]\")\n",
    "\n",
    "\n",
    "def test_loop(dataloader, model, loss_fn):\n",
    "    # Set the model to evaluation mode - important for batch normalization and dropout layers\n",
    "    # Unnecessary in this situation but added for best practices\n",
    "    model.eval()\n",
    "    size = len(dataloader.dataset)\n",
    "    num_batches = len(dataloader)\n",
    "    test_loss, correct = 0, 0\n",
    "\n",
    "    # Evaluating the model with torch.no_grad() ensures that no gradients are computed during test mode\n",
    "    # also serves to reduce unnecessary gradient computations and memory usage for tensors with requires_grad=True\n",
    "    with torch.no_grad():\n",
    "        for X, y in dataloader:\n",
    "            pred = model(X)\n",
    "            test_loss += loss_fn(pred, y).item()\n",
    "            correct += (pred.argmax(1) == y).type(torch.float).sum().item()\n",
    "\n",
    "    test_loss /= num_batches\n",
    "    correct /= size\n",
    "    print(f\"Test Error: \\n Accuracy: {(100*correct):>0.1f}%, Avg loss: {test_loss:>8f} \\n\")"
   ]
  },
  {
   "cell_type": "code",
   "execution_count": 6,
   "id": "344a6812",
   "metadata": {},
   "outputs": [
    {
     "name": "stdout",
     "output_type": "stream",
     "text": [
      "Epoch 1\n",
      "-------------------------------\n",
      "loss: 1.169165  [10000/60000]\n",
      "loss: 0.282814  [20000/60000]\n",
      "loss: 0.152201  [30000/60000]\n",
      "loss: 0.275264  [40000/60000]\n",
      "loss: 0.216683  [50000/60000]\n",
      "Test Error: \n",
      " Accuracy: 94.2%, Avg loss: 0.197542 \n",
      "\n",
      "Epoch 2\n",
      "-------------------------------\n",
      "loss: 0.044481  [10000/60000]\n",
      "loss: 0.061636  [20000/60000]\n",
      "loss: 0.217190  [30000/60000]\n",
      "loss: 0.086707  [40000/60000]\n",
      "loss: 0.059896  [50000/60000]\n",
      "Test Error: \n",
      " Accuracy: 96.8%, Avg loss: 0.108471 \n",
      "\n",
      "Epoch 3\n",
      "-------------------------------\n",
      "loss: 0.039735  [10000/60000]\n",
      "loss: 0.113576  [20000/60000]\n",
      "loss: 0.054965  [30000/60000]\n",
      "loss: 0.346354  [40000/60000]\n",
      "loss: 0.013243  [50000/60000]\n",
      "Test Error: \n",
      " Accuracy: 97.3%, Avg loss: 0.081870 \n",
      "\n",
      "Done!\n"
     ]
    }
   ],
   "source": [
    "model = LeNet()\n",
    "optimizer = torch.optim.SGD(model.parameters(), lr=0.001, momentum=0.9)\n",
    "loss_fn = torch.nn.CrossEntropyLoss()\n",
    "\n",
    "epochs = 3\n",
    "for t in range(epochs):\n",
    "    print(f\"Epoch {t+1}\\n-------------------------------\")\n",
    "    train_loop(training_loader, model, loss_fn, optimizer)\n",
    "    test_loop(validation_loader, model, loss_fn)\n",
    "print(\"Done!\")"
   ]
  }
 ],
 "metadata": {
  "kernelspec": {
   "display_name": "Python 3 (ipykernel)",
   "language": "python",
   "name": "python3"
  },
  "language_info": {
   "codemirror_mode": {
    "name": "ipython",
    "version": 3
   },
   "file_extension": ".py",
   "mimetype": "text/x-python",
   "name": "python",
   "nbconvert_exporter": "python",
   "pygments_lexer": "ipython3",
   "version": "3.11.5"
  }
 },
 "nbformat": 4,
 "nbformat_minor": 5
}
