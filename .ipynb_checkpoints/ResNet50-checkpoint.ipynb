{
 "cells": [
  {
   "cell_type": "markdown",
   "id": "7703a432",
   "metadata": {},
   "source": [
    "https://pytorch.org/hub/nvidia_deeplearningexamples_resnet50/"
   ]
  },
  {
   "cell_type": "code",
   "execution_count": null,
   "id": "2a4687d0",
   "metadata": {},
   "outputs": [],
   "source": [
    "!pip install validators matplotlib"
   ]
  },
  {
   "cell_type": "code",
   "execution_count": null,
   "id": "0daf4607",
   "metadata": {},
   "outputs": [],
   "source": [
    "import torch\n",
    "from PIL import Image\n",
    "import torchvision.transforms as transforms\n",
    "import numpy as np\n",
    "import json\n",
    "import requests\n",
    "import matplotlib.pyplot as plt\n",
    "import warnings\n",
    "warnings.filterwarnings('ignore')\n",
    "%matplotlib inline\n",
    "\n",
    "device = torch.device(\"cuda\") if torch.cuda.is_available() else torch.device(\"cpu\")\n",
    "print(f'Using {device} for inference')"
   ]
  },
  {
   "cell_type": "code",
   "execution_count": null,
   "id": "88408ecc",
   "metadata": {},
   "outputs": [],
   "source": [
    "resnet50 = torch.hub.load('NVIDIA/DeepLearningExamples:torchhub', 'nvidia_resnet50', pretrained=True)\n",
    "utils = torch.hub.load('NVIDIA/DeepLearningExamples:torchhub', 'nvidia_convnets_processing_utils')\n",
    "\n",
    "resnet50.eval().to(device)"
   ]
  },
  {
   "cell_type": "code",
   "execution_count": null,
   "id": "1a84e82e",
   "metadata": {},
   "outputs": [],
   "source": [
    "img_url = input(\"Desired image URL to make prediction on? \")"
   ]
  },
  {
   "cell_type": "code",
   "execution_count": null,
   "id": "f0516215",
   "metadata": {},
   "outputs": [],
   "source": [
    "uris = [img_url]\n",
    "\n",
    "batch = torch.cat(\n",
    "    [utils.prepare_input_from_uri(uri) for uri in uris]\n",
    ").to(device)"
   ]
  },
  {
   "cell_type": "code",
   "execution_count": null,
   "id": "ba724e4c",
   "metadata": {},
   "outputs": [],
   "source": [
    "with torch.no_grad():\n",
    "    output = torch.nn.functional.softmax(resnet50(batch), dim=1)\n",
    "    \n",
    "results = utils.pick_n_best(predictions=output, n=5)"
   ]
  },
  {
   "cell_type": "code",
   "execution_count": null,
   "id": "b1da80f5",
   "metadata": {},
   "outputs": [],
   "source": [
    "for uri, result in zip(uris, results):\n",
    "    img = Image.open(requests.get(uri, stream=True).raw)\n",
    "    img.thumbnail((256,256), Image.LANCZOS)\n",
    "    plt.imshow(img)\n",
    "    plt.show()\n",
    "    print(result)"
   ]
  }
 ],
 "metadata": {
  "kernelspec": {
   "display_name": "Python 3 (ipykernel)",
   "language": "python",
   "name": "python3"
  },
  "language_info": {
   "codemirror_mode": {
    "name": "ipython",
    "version": 3
   },
   "file_extension": ".py",
   "mimetype": "text/x-python",
   "name": "python",
   "nbconvert_exporter": "python",
   "pygments_lexer": "ipython3",
   "version": "3.11.5"
  }
 },
 "nbformat": 4,
 "nbformat_minor": 5
}
