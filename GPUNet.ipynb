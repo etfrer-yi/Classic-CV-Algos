{
 "cells": [
  {
   "cell_type": "markdown",
   "id": "f13fa652",
   "metadata": {},
   "source": [
    "https://pytorch.org/hub/nvidia_deeplearningexamples_gpunet/"
   ]
  },
  {
   "cell_type": "code",
   "execution_count": null,
   "id": "e52178d3",
   "metadata": {},
   "outputs": [],
   "source": [
    "!pip install validators matplotlib\n",
    "!pip install timm==0.5.4"
   ]
  },
  {
   "cell_type": "code",
   "execution_count": null,
   "id": "91ec1ee1",
   "metadata": {},
   "outputs": [],
   "source": [
    "import torch\n",
    "from PIL import Image\n",
    "import torchvision.transforms as transforms\n",
    "import numpy as np\n",
    "import json\n",
    "import requests\n",
    "import matplotlib.pyplot as plt\n",
    "import warnings\n",
    "\n",
    "warnings.filterwarnings('ignore')\n",
    "%matplotlib inline\n",
    "\n",
    "\n",
    "if torch.cuda.is_available():\n",
    "    device = torch.device(\"cuda\") \n",
    "    !nvidia-smi\n",
    "else:\n",
    "    device = torch.device(\"cpu\")\n",
    "\n",
    "print(f'Using {device} for inference')"
   ]
  },
  {
   "cell_type": "code",
   "execution_count": null,
   "id": "333741d8",
   "metadata": {},
   "outputs": [],
   "source": [
    "model_type = \"GPUNet-0\" # select one from above\n",
    "precision = \"fp32\" # select either fp32 of fp16 (for better performance on GPU)\n",
    "\n",
    "gpunet = torch.hub.load('NVIDIA/DeepLearningExamples:torchhub', 'nvidia_gpunet', pretrained=True, model_type=model_type, model_math=precision)\n",
    "utils = torch.hub.load('NVIDIA/DeepLearningExamples:torchhub', 'nvidia_convnets_processing_utils')\n",
    "\n",
    "gpunet.to(device)\n",
    "gpunet.eval()"
   ]
  },
  {
   "cell_type": "code",
   "execution_count": null,
   "id": "f3704091",
   "metadata": {},
   "outputs": [],
   "source": [
    "img_url = input(\"Desired image URL to make prediction on? \")"
   ]
  },
  {
   "cell_type": "code",
   "execution_count": null,
   "id": "65be1ab6",
   "metadata": {},
   "outputs": [],
   "source": [
    "uris = [img_url]\n",
    "batch = torch.cat(\n",
    "    [utils.prepare_input_from_uri(uri) for uri in uris]\n",
    ").to(device)\n",
    "\n",
    "if precision == \"fp16\":\n",
    "    batch = batch.half()\n",
    "    \n",
    "print(\"Ready to run inference...\")"
   ]
  },
  {
   "cell_type": "code",
   "execution_count": null,
   "id": "bd89158b",
   "metadata": {},
   "outputs": [],
   "source": [
    "with torch.no_grad():\n",
    "    output = torch.nn.functional.softmax(gpunet(batch), dim=1)\n",
    "    \n",
    "results = utils.pick_n_best(predictions=output, n=5)"
   ]
  },
  {
   "cell_type": "code",
   "execution_count": null,
   "id": "f9f859f1",
   "metadata": {},
   "outputs": [],
   "source": [
    "for uri, result in zip(uris, results):\n",
    "    img = Image.open(requests.get(uri, stream=True).raw)\n",
    "    img.thumbnail((256,256), Image.LANCZOS)\n",
    "    plt.imshow(img)\n",
    "    plt.show()\n",
    "    print(result)"
   ]
  }
 ],
 "metadata": {
  "kernelspec": {
   "display_name": "Python 3 (ipykernel)",
   "language": "python",
   "name": "python3"
  },
  "language_info": {
   "codemirror_mode": {
    "name": "ipython",
    "version": 3
   },
   "file_extension": ".py",
   "mimetype": "text/x-python",
   "name": "python",
   "nbconvert_exporter": "python",
   "pygments_lexer": "ipython3",
   "version": "3.11.5"
  }
 },
 "nbformat": 4,
 "nbformat_minor": 5
}
